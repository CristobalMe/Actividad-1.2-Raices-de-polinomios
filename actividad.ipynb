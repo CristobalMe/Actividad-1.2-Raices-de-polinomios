{
 "cells": [
  {
   "cell_type": "markdown",
   "metadata": {},
   "source": [
    "# Actividad 1.2: Raíces de polinomios\n",
    "Cristobal Medina Meza | A01643121"
   ]
  },
  {
   "cell_type": "code",
   "execution_count": 15,
   "metadata": {},
   "outputs": [],
   "source": [
    "import sys\n",
    "sys.path.append(r'D:\\codigos_6to\\optimizacion\\Actividad-1.2-Raices-de-polinomios\\backend')\n",
    "from MA2008B import *"
   ]
  },
  {
   "cell_type": "markdown",
   "metadata": {},
   "source": [
    "Utilizando el método de Newton-Raphson, seguido del procedimiento de deflación, aproxime todas las raíces del siguiente polinomio con un máximo error de $10^{-3}$:\n",
    "\n",
    "\\begin{equation}\n",
    "    p(x) = x^7 + 16.3x^6 + 91.31x^5 + 233.329x^4 + 294.662x^3 + 184.72276x^2 + 53.15896x + 5.25504.\n",
    "\\end{equation}\n"
   ]
  },
  {
   "cell_type": "code",
   "execution_count": 16,
   "metadata": {},
   "outputs": [
    {
     "name": "stdout",
     "output_type": "stream",
     "text": [
      "Raíces encontradas: [-0.19999999920959097, -0.49999987339767415, -0.6999997552069069, -1.2000007361897642, -2.299999454694993, -3.400000181761377, -7.9999999995396935]\n"
     ]
    }
   ],
   "source": [
    "import numpy as np\n",
    "from MA2008B import horner, deflacion_x_x0, newton_raphson\n",
    "\n",
    "def p(x):\n",
    "    return x**7 + 16.3*x**6 + 91.31*x**5 + 233.329*x**4 + 294.662*x**3 + 184.72276*x**2 + 53.15896*x + 5.25504\n",
    "\n",
    "def dp(x):\n",
    "    return 7*x**6 + 6*16.3*x**5 + 5*91.31*x**4 + 4*233.329*x**3 + 3*294.662*x**2 + 2*184.72276*x + 53.15896\n",
    "\n",
    "tol = 1e-3\n",
    "nmax = 100\n",
    "roots = []\n",
    "\n",
    "a = [1, 16.3, 91.31, 233.329, 294.662, 184.72276, 53.15896, 5.25504]\n",
    "\n",
    "while len(a) > 1:\n",
    "    x0 = np.random.rand() * 10 - 5\n",
    "    root = newton_raphson(p, dp, x0, tol, nmax)\n",
    "    \n",
    "    if isinstance(root, str):\n",
    "        print(root)\n",
    "        break\n",
    "    \n",
    "    roots.append(root)\n",
    "    \n",
    "    a, _ = deflacion_x_x0(a, root)\n",
    "\n",
    "    def p(x):\n",
    "        return sum(coef * x**i for i, coef in enumerate(reversed(a)))\n",
    "\n",
    "    def dp(x):\n",
    "        return sum(i * coef * x**(i-1) for i, coef in enumerate(reversed(a)) if i > 0)\n",
    "\n",
    "print(\"Raíces encontradas:\", roots)"
   ]
  },
  {
   "cell_type": "markdown",
   "metadata": {},
   "source": [
    "Utilizando el método de Müller, aproxime las raíces reales y complejas de los siguientes polinomios con un máximo error de $10^{-3}$. Recuerde que si una raíz es compleja, su conjugado también es una raíz. En estos casos se puede usar deflación cuadrática para reducir el polinomio.\n",
    "\n",
    "\\begin{equation} p(x) = x^3 - x^2 + 2x - 2 \\end{equation}\n",
    "\n"
   ]
  },
  {
   "cell_type": "markdown",
   "metadata": {},
   "source": [
    "\\begin{equation} p(x) = x^4 + 3x^2 + 5 \\end{equation}\n"
   ]
  },
  {
   "cell_type": "markdown",
   "metadata": {},
   "source": [
    "\\begin{equation} p(x) = x^4 - 2x^3 + 6x^2 - 8x + 8 \\end{equation}"
   ]
  },
  {
   "cell_type": "code",
   "execution_count": 17,
   "metadata": {},
   "outputs": [
    {
     "name": "stdout",
     "output_type": "stream",
     "text": [
      "Roots of polynomial 1: [(1+0j)]\n",
      "Roots of polynomial 2: [(0.6066580459058742-1.3667603947880538j)]\n",
      "Roots of polynomial 3: [(1.000000428560886-1.0000006989980468j)]\n"
     ]
    }
   ],
   "source": [
    "import cmath\n",
    "from MA2008B import muller, deflacion_x2_bc\n",
    "\n",
    "def polynomial_1(x):\n",
    "    return x**3 - x**2 + 2*x - 2\n",
    "\n",
    "def polynomial_2(x):\n",
    "    return x**4 + 3*x**2 + 5\n",
    "\n",
    "def polynomial_3(x):\n",
    "    return x**4 - 2*x**3 + 6*x**2 - 8*x + 8\n",
    "\n",
    "def find_roots(f, initial_guesses, tol=1e-3, nmax=100):\n",
    "    roots = []\n",
    "    for i in range(len(initial_guesses) - 2):\n",
    "        x0, x1, x2 = initial_guesses[i], initial_guesses[i+1], initial_guesses[i+2]\n",
    "        root = muller(f, x0, x1, x2, tol, nmax)\n",
    "        if isinstance(root, str):\n",
    "            print(root)\n",
    "            continue\n",
    "        roots.append(root)\n",
    "        if cmath.isclose(root.imag, 0, abs_tol=tol):\n",
    "            f = lambda x: f(x) / (x - root)\n",
    "        else:\n",
    "            f = lambda x: deflacion_x2_bc(f, root.real, root.imag)[0]\n",
    "    return roots\n",
    "\n",
    "initial_guesses_1 = [0, 0.5, 1]\n",
    "initial_guesses_2 = [0, 1, 2]\n",
    "initial_guesses_3 = [0, 1, 2]\n",
    "\n",
    "roots_1 = find_roots(polynomial_1, initial_guesses_1)\n",
    "roots_2 = find_roots(polynomial_2, initial_guesses_2)\n",
    "roots_3 = find_roots(polynomial_3, initial_guesses_3)\n",
    "\n",
    "print(\"Roots of polynomial 1:\", roots_1)\n",
    "print(\"Roots of polynomial 2:\", roots_2)\n",
    "print(\"Roots of polynomial 3:\", roots_3)"
   ]
  },
  {
   "cell_type": "code",
   "execution_count": 21,
   "metadata": {},
   "outputs": [
    {
     "name": "stdout",
     "output_type": "stream",
     "text": [
      "Roots of polynomial 1:\n",
      "  0.000000 + 1.414214j\n",
      "  0.000000 + -1.414214j\n",
      "  1.000000\n",
      "\n",
      "Roots of polynomial 2:\n",
      "  -0.606658 + -1.366760j\n",
      "  -0.606658 + 1.366760j\n",
      "  0.606658 + -1.366760j\n",
      "  0.606658 + 1.366760j\n",
      "\n",
      "Roots of polynomial 3:\n",
      "  1.000001 + -0.999999j\n",
      "  1.000001 + 0.999999j\n",
      "  0.000000 + -2.000000j\n",
      "  0.000000 + 2.000000j\n"
     ]
    }
   ],
   "source": [
    "import cmath\n",
    "import numpy as np\n",
    "from MA2008B import muller\n",
    "\n",
    "def polynomial_1(x):\n",
    "    return x**3 - x**2 + 2*x - 2\n",
    "\n",
    "def polynomial_2(x):\n",
    "    return x**4 + 3*x**2 + 5\n",
    "\n",
    "def polynomial_3(x):\n",
    "    return x**4 - 2*x**3 + 6*x**2 - 8*x + 8\n",
    "\n",
    "class DeflatedPolynomial:\n",
    "    \"\"\"Class to represent a polynomial that is being deflated as roots are found\"\"\"\n",
    "    \n",
    "    def __init__(self, f):\n",
    "        \"\"\"Initialize with the original polynomial function\"\"\"\n",
    "        self.original_f = f\n",
    "        self.roots = []\n",
    "        \n",
    "    def __call__(self, x):\n",
    "        \"\"\"Evaluate the deflated polynomial at x\"\"\"\n",
    "        # Start with the original polynomial value\n",
    "        result = self.original_f(x)\n",
    "        \n",
    "        # Divide by (x - root) for each found root\n",
    "        for root in self.roots:\n",
    "            # Avoid division by zero or very small denominators\n",
    "            if abs(x - root) < 1e-10:\n",
    "                return 0\n",
    "            result = result / (x - root)\n",
    "            \n",
    "        return result\n",
    "    \n",
    "    def add_root(self, root):\n",
    "        \"\"\"Add a root to the list of found roots\"\"\"\n",
    "        self.roots.append(root)\n",
    "\n",
    "def find_all_roots(f, degree, tol=1e-3, nmax=100):\n",
    "    \"\"\"\n",
    "    Find all roots of a polynomial using Müller's method with deflation.\n",
    "    \"\"\"\n",
    "    # Define various starting points to try\n",
    "    starting_points = [\n",
    "        [-2, -1, 0], [0, 1, 2], [-1, 0, 1],\n",
    "        [0, 0.5, 1], [-1, -0.5, 0], [1j, 2j, 3j]\n",
    "    ]\n",
    "    \n",
    "    deflated_poly = DeflatedPolynomial(f)\n",
    "    roots = []\n",
    "    \n",
    "    while len(roots) < degree:\n",
    "        found_root = False\n",
    "        \n",
    "        # Try different starting points\n",
    "        for points in starting_points:\n",
    "            try:\n",
    "                root = muller(deflated_poly, points[0], points[1], points[2], tol, nmax)\n",
    "                if not isinstance(root, str):\n",
    "                    root = complex(root)\n",
    "                    # Check if this root is close to any we've already found\n",
    "                    if not any(abs(root - r) < tol for r in roots):\n",
    "                        roots.append(root)\n",
    "                        deflated_poly.add_root(root)\n",
    "                        found_root = True\n",
    "                        break\n",
    "            except:\n",
    "                continue\n",
    "        \n",
    "        # If we've tried all starting points but found no new root, break\n",
    "        if not found_root:\n",
    "            break\n",
    "        \n",
    "        # If we found a complex root with significant imaginary part, add its conjugate\n",
    "        if abs(root.imag) > tol and len(roots) < degree:\n",
    "            conjugate = complex(root.real, -root.imag)\n",
    "            roots.append(conjugate)\n",
    "            deflated_poly.add_root(conjugate)\n",
    "    \n",
    "    return roots\n",
    "\n",
    "# Find and display roots\n",
    "print(\"Roots of polynomial 1:\")\n",
    "roots_1 = find_all_roots(polynomial_1, 3)\n",
    "for r in roots_1:\n",
    "    if abs(r.imag) < 1e-3:\n",
    "        print(f\"  {r.real:.6f}\")\n",
    "    else:\n",
    "        print(f\"  {r.real:.6f} + {r.imag:.6f}j\")\n",
    "\n",
    "print(\"\\nRoots of polynomial 2:\")\n",
    "roots_2 = find_all_roots(polynomial_2, 4)\n",
    "for r in roots_2:\n",
    "    if abs(r.imag) < 1e-3:\n",
    "        print(f\"  {r.real:.6f}\")\n",
    "    else:\n",
    "        print(f\"  {r.real:.6f} + {r.imag:.6f}j\")\n",
    "\n",
    "print(\"\\nRoots of polynomial 3:\")\n",
    "roots_3 = find_all_roots(polynomial_3, 4)\n",
    "for r in roots_3:\n",
    "    if abs(r.imag) < 1e-3:\n",
    "        print(f\"  {r.real:.6f}\")\n",
    "    else:\n",
    "        print(f\"  {r.real:.6f} + {r.imag:.6f}j\")"
   ]
  },
  {
   "cell_type": "markdown",
   "metadata": {},
   "source": [
    "Use un sistema de computacion algebraica o librerıa de Python para verificar que los resultados de los problemas anteriores estan dentro del margen de error establecido"
   ]
  },
  {
   "cell_type": "markdown",
   "metadata": {},
   "source": [
    "1."
   ]
  },
  {
   "cell_type": "code",
   "execution_count": 18,
   "metadata": {},
   "outputs": [
    {
     "name": "stdout",
     "output_type": "stream",
     "text": [
      "\n",
      "Raíces exactas del polinomio (comprobadas con numpy):\n",
      "Raíz exacta: -8.0\n",
      "Raíz exacta: -3.4000000000000514\n",
      "Raíz exacta: -2.2999999999999363\n",
      "Raíz exacta: -1.2000000000000282\n",
      "Raíz exacta: -0.6999999999999841\n",
      "Raíz exacta: -0.5000000000000044\n",
      "Raíz exacta: -0.20000000000000043\n"
     ]
    }
   ],
   "source": [
    "import numpy as np\n",
    "\n",
    "coeficientes = [1, 16.3, 91.31, 233.329, 294.662, 184.72276, 53.15896, 5.25504]\n",
    "raices_exactas = np.roots(coeficientes)\n",
    "\n",
    "print(\"\\nRaíces exactas del polinomio (comprobadas con numpy):\")\n",
    "for raiz in raices_exactas:\n",
    "    print(f\"Raíz exacta: {raiz}\")\n"
   ]
  },
  {
   "cell_type": "markdown",
   "metadata": {},
   "source": [
    "Resultados anteriores:\n",
    "[-2.300000000085624, -1.199999999483634, -0.1999998839356626, -0.5000002621915055, -3.3999999953085127, -0.6999998370883357, -8.000000021906725]"
   ]
  },
  {
   "cell_type": "markdown",
   "metadata": {},
   "source": [
    "2."
   ]
  },
  {
   "cell_type": "code",
   "execution_count": 19,
   "metadata": {},
   "outputs": [
    {
     "name": "stdout",
     "output_type": "stream",
     "text": [
      "Roots for coefficient 0:\n",
      "(5.828670879282072e-16+1.4142135623730943j)\n",
      "(5.828670879282072e-16-1.4142135623730943j)\n",
      "(1+0j)\n",
      "Roots for coefficient 1:\n",
      "(-0.6066580492747915+1.366760399173863j)\n",
      "(-0.6066580492747915-1.366760399173863j)\n",
      "(0.6066580492747911+1.3667603991738626j)\n",
      "(0.6066580492747911-1.3667603991738626j)\n",
      "Roots for coefficient 2:\n",
      "(-2.220446049250313e-16+1.999999999999998j)\n",
      "(-2.220446049250313e-16-1.999999999999998j)\n",
      "(1+0.9999999999999996j)\n",
      "(1-0.9999999999999996j)\n"
     ]
    }
   ],
   "source": [
    "coefficients = [[1, -1, 2, -2], [1, 0, 3, 0, 5], [1, -2, 6, -8, 8]]\n",
    "\n",
    "for l in range(len(coefficients)):\n",
    "    roots = np.roots(coefficients[l])\n",
    "    print(f\"Roots for coefficient {l}:\")\n",
    "    for root in roots:\n",
    "        print(root)\n"
   ]
  },
  {
   "cell_type": "markdown",
   "metadata": {},
   "source": [
    "Resultados anteriores:\n",
    "\n",
    "Roots of polynomial 1:\n",
    "  0.000000 + 1.414214j\n",
    "  0.000000 + -1.414214j\n",
    "  1.000000\n",
    "\n",
    "Roots of polynomial 2:\n",
    "  -0.606658 + -1.366760j\n",
    "  -0.606658 + 1.366760j\n",
    "  0.606658 + -1.366760j\n",
    "  0.606658 + 1.366760j\n",
    "\n",
    "Roots of polynomial 3:\n",
    "  1.000001 + -0.999999j\n",
    "  1.000001 + 0.999999j\n",
    "  0.000000 + -2.000000j\n",
    "  0.000000 + 2.000000j"
   ]
  }
 ],
 "metadata": {
  "kernelspec": {
   "display_name": "Python 3",
   "language": "python",
   "name": "python3"
  },
  "language_info": {
   "codemirror_mode": {
    "name": "ipython",
    "version": 3
   },
   "file_extension": ".py",
   "mimetype": "text/x-python",
   "name": "python",
   "nbconvert_exporter": "python",
   "pygments_lexer": "ipython3",
   "version": "3.12.6"
  }
 },
 "nbformat": 4,
 "nbformat_minor": 2
}
